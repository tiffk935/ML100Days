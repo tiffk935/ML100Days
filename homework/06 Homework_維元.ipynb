{
 "cells": [
  {
   "cell_type": "markdown",
   "metadata": {
    "id": "P6xk2_jLsvFF"
   },
   "source": [
    "# [作業目標]\n",
    "\n",
    "1. [簡答題] 請問下列這三種方法有什麼不同？\n",
    "\n",
    "```\n",
    "print(a.sum()) \n",
    "print(np.sum(a))\n",
    "print(sum(a)) \n",
    "```\n",
    "\n",
    "2. 請對一個 5x5 的隨機矩陣作正規化的操作。\n",
    "\n",
    "3. 請建立一個長度等於 10 的正整數向量，並且將其中的最大值改成 -1。\n"
   ]
  },
  {
   "cell_type": "markdown",
   "metadata": {
    "id": "uXGll28asvFS"
   },
   "source": [
    "# 作業 "
   ]
  },
  {
   "cell_type": "markdown",
   "metadata": {
    "id": "lbz8VjL6jxyL"
   },
   "source": [
    "### 1. [簡答題] 請問下列這三種方法有什麼不同？\n",
    "\n",
    "```\n",
    "print(a.sum()) \n",
    "print(np.sum(a))\n",
    "print(sum(a)) \n",
    "```\n",
    "\n"
   ]
  },
  {
   "cell_type": "code",
   "execution_count": null,
   "metadata": {
    "id": "5QrYoyNWsvFS",
    "outputId": "e9e14d36-38ce-4ce5-edf2-3c7b129db580"
   },
   "outputs": [
    {
     "data": {
      "text/plain": [
       "'\\nYour Code\\n'"
      ]
     },
     "execution_count": 3,
     "metadata": {
      "tags": []
     },
     "output_type": "execute_result"
    }
   ],
   "source": [
    "'''\n",
    "Your Code\n",
    "'''"
   ]
  },
  {
   "cell_type": "markdown",
   "metadata": {
    "id": "vVrjBXabjxyS"
   },
   "source": [
    "### 2. 請對一個 5x5 的隨機矩陣作正規化的操作。\n"
   ]
  },
  {
   "cell_type": "code",
   "execution_count": 2,
   "metadata": {
    "id": "ffDRVHs9jxyS"
   },
   "outputs": [],
   "source": [
    "import numpy as np"
   ]
  },
  {
   "cell_type": "code",
   "execution_count": 3,
   "metadata": {
    "id": "e1gVI0tvsvFY",
    "outputId": "43bf676f-fd04-4edf-c062-b5fe7fe1f4bf"
   },
   "outputs": [
    {
     "data": {
      "text/plain": [
       "array([[0.074201  , 0.03041273, 0.41036877, 0.89642525, 0.28492492],\n",
       "       [0.19202869, 0.4726568 , 0.94599421, 0.6077089 , 0.15712319],\n",
       "       [0.62002378, 0.4517048 , 0.00387517, 0.83934181, 0.96276572],\n",
       "       [0.17732388, 0.61687154, 0.80412989, 0.92366432, 0.92679536],\n",
       "       [0.70032533, 0.62079299, 0.71747896, 0.11044298, 0.68330263]])"
      ]
     },
     "execution_count": 3,
     "metadata": {},
     "output_type": "execute_result"
    }
   ],
   "source": [
    "A = np.random.random((5, 5))\n",
    "\n",
    "print(A)"
   ]
  },
  {
   "cell_type": "markdown",
   "metadata": {
    "id": "Ptc3ZrNQjxyU"
   },
   "source": [
    "### 3. 請建立一個長度等於 10 的正整數向量，並且將其中的最大值改成 -1。\n"
   ]
  },
  {
   "cell_type": "code",
   "execution_count": 13,
   "metadata": {
    "id": "Yu1kbLxojxyU",
    "outputId": "d323e754-178a-46ae-e15e-98275ae220dd"
   },
   "outputs": [
    {
     "data": {
      "text/plain": [
       "array([18,  3, 23, 34, 80, 38, 56, 68, 74, 96])"
      ]
     },
     "execution_count": 13,
     "metadata": {},
     "output_type": "execute_result"
    }
   ],
   "source": [
    "from numpy import random\n",
    "a = random.randint(100, size=(10))\n",
    "a"
   ]
  },
  {
   "cell_type": "code",
   "execution_count": null,
   "metadata": {
    "id": "IoPlZnZgjxyV"
   },
   "outputs": [],
   "source": []
  },
  {
   "cell_type": "code",
   "execution_count": null,
   "metadata": {
    "id": "V5bMfGR_jxyV"
   },
   "outputs": [],
   "source": []
  }
 ],
 "metadata": {
  "colab": {
   "name": "06 Homework_維元.ipynb",
   "provenance": []
  },
  "kernelspec": {
   "display_name": "Python 3",
   "language": "python",
   "name": "python3"
  },
  "language_info": {
   "codemirror_mode": {
    "name": "ipython",
    "version": 3
   },
   "file_extension": ".py",
   "mimetype": "text/x-python",
   "name": "python",
   "nbconvert_exporter": "python",
   "pygments_lexer": "ipython3",
   "version": "3.7.4"
  }
 },
 "nbformat": 4,
 "nbformat_minor": 1
}
