{
 "cells": [
  {
   "cell_type": "markdown",
   "metadata": {
    "colab_type": "text",
    "id": "P6xk2_jLsvFF"
   },
   "source": [
    "# [作業目標]\n",
    "\n",
    "1. 請比較對一個 100 x 100 * 100 的陣列，使用不同方法對每一個元素 +1 的時間比較。\n",
    "\n",
    "2. 如何從一個陣列中，找出出現頻率最高的數值與位置？\n",
    "\n",
    "3. 如何利用 list(...) 實現 a.tolist() 的效果？試著用程式實作。\n"
   ]
  },
  {
   "cell_type": "markdown",
   "metadata": {
    "colab_type": "text",
    "id": "uXGll28asvFS"
   },
   "source": [
    "# 作業 "
   ]
  },
  {
   "cell_type": "markdown",
   "metadata": {},
   "source": [
    "### 1. 請比較對一個 1000 x 100 x 100 的陣列，使用不同方法對每一個元素 +1 的時間比較。\n",
    "\n",
    "\n"
   ]
  },
  {
   "cell_type": "code",
   "execution_count": 1,
   "metadata": {},
   "outputs": [
    {
     "name": "stdout",
     "output_type": "stream",
     "text": [
      "<module 'numpy' from '/opt/anaconda3/lib/python3.7/site-packages/numpy/__init__.py'>\n",
      "1.17.2\n"
     ]
    }
   ],
   "source": [
    "# 載入 NumPy 套件\n",
    "import numpy as np\n",
    "\n",
    "# 檢查正確載入與版本\n",
    "print(np)\n",
    "print(np.__version__)"
   ]
  },
  {
   "cell_type": "code",
   "execution_count": 2,
   "metadata": {
    "colab": {},
    "colab_type": "code",
    "id": "5QrYoyNWsvFS"
   },
   "outputs": [
    {
     "name": "stdout",
     "output_type": "stream",
     "text": [
      "[[[6 1 2 ... 7 9 6]\n",
      "  [1 2 8 ... 0 8 0]\n",
      "  [7 0 0 ... 0 1 1]\n",
      "  ...\n",
      "  [7 0 2 ... 1 8 9]\n",
      "  [6 8 0 ... 8 9 3]\n",
      "  [1 9 9 ... 5 9 1]]\n",
      "\n",
      " [[2 0 9 ... 9 3 1]\n",
      "  [3 3 5 ... 9 7 2]\n",
      "  [4 6 5 ... 9 2 3]\n",
      "  ...\n",
      "  [7 2 7 ... 4 2 5]\n",
      "  [4 6 4 ... 9 2 6]\n",
      "  [3 4 2 ... 9 3 5]]\n",
      "\n",
      " [[0 2 8 ... 1 9 3]\n",
      "  [3 3 7 ... 8 0 8]\n",
      "  [5 6 1 ... 8 2 8]\n",
      "  ...\n",
      "  [2 0 6 ... 9 4 0]\n",
      "  [6 4 0 ... 5 8 9]\n",
      "  [5 9 4 ... 5 7 7]]\n",
      "\n",
      " ...\n",
      "\n",
      " [[7 8 3 ... 1 6 9]\n",
      "  [1 6 7 ... 6 1 0]\n",
      "  [0 0 4 ... 0 0 7]\n",
      "  ...\n",
      "  [5 5 5 ... 8 1 1]\n",
      "  [6 6 5 ... 0 7 8]\n",
      "  [0 4 0 ... 6 8 9]]\n",
      "\n",
      " [[4 4 2 ... 2 7 0]\n",
      "  [4 0 1 ... 7 0 7]\n",
      "  [3 5 0 ... 0 4 7]\n",
      "  ...\n",
      "  [1 5 7 ... 3 2 0]\n",
      "  [9 7 1 ... 3 6 4]\n",
      "  [0 7 7 ... 6 7 9]]\n",
      "\n",
      " [[0 0 8 ... 3 0 9]\n",
      "  [8 1 4 ... 8 7 1]\n",
      "  [4 3 1 ... 0 8 6]\n",
      "  ...\n",
      "  [1 4 2 ... 8 7 2]\n",
      "  [6 0 8 ... 4 8 2]\n",
      "  [4 7 3 ... 7 5 4]]]\n"
     ]
    }
   ],
   "source": [
    "Z = np.random.randint(0, 10, 1000000).reshape(100, 100, 100)\n",
    "print(Z)"
   ]
  },
  {
   "cell_type": "code",
   "execution_count": 3,
   "metadata": {},
   "outputs": [
    {
     "name": "stdout",
     "output_type": "stream",
     "text": [
      "57.1 ns ± 23 ns per loop (mean ± std. dev. of 7 runs, 10 loops each)\n"
     ]
    }
   ],
   "source": [
    "%timeit -n 10 a = 2\n",
    "\n",
    "for i in Z:\n",
    "    for j in i:\n",
    "        for k in j:\n",
    "            i = i + 1"
   ]
  },
  {
   "cell_type": "code",
   "execution_count": 4,
   "metadata": {},
   "outputs": [
    {
     "name": "stdout",
     "output_type": "stream",
     "text": [
      "47.3 ns ± 20.1 ns per loop (mean ± std. dev. of 7 runs, 10 loops each)\n"
     ]
    }
   ],
   "source": [
    "%timeit -n 10 a = 2\n",
    "\n",
    "for i in Z.flat:\n",
    "    i = i+1"
   ]
  },
  {
   "cell_type": "code",
   "execution_count": 5,
   "metadata": {},
   "outputs": [
    {
     "name": "stdout",
     "output_type": "stream",
     "text": [
      "78.3 ns ± 22.3 ns per loop (mean ± std. dev. of 7 runs, 10 loops each)\n"
     ]
    }
   ],
   "source": [
    "%timeit -n 10 a = 2\n",
    "\n",
    "for i in np.nditer(Z):\n",
    "    i = i+1"
   ]
  },
  {
   "cell_type": "markdown",
   "metadata": {},
   "source": [
    "### 2. 如何從一個陣列中，找出出現頻率最高的數值與位置？\n"
   ]
  },
  {
   "cell_type": "code",
   "execution_count": 6,
   "metadata": {
    "colab": {},
    "colab_type": "code",
    "id": "e1gVI0tvsvFY"
   },
   "outputs": [
    {
     "name": "stdout",
     "output_type": "stream",
     "text": [
      "[9 6 7 0 0 5 7 1 1 3 1 7 8 4 5 7 8 9 7 9 4 4 1 3 8 6 7 2 7 0 6 5 1 6 1 9 3\n",
      " 9 0 3 9 2 1 6 4 2 6 5 4 9]\n"
     ]
    }
   ],
   "source": [
    "\n",
    "Z = np.random.randint(0,10,50)\n",
    "print(Z)\n"
   ]
  },
  {
   "cell_type": "code",
   "execution_count": 7,
   "metadata": {},
   "outputs": [
    {
     "data": {
      "text/plain": [
       "1"
      ]
     },
     "execution_count": 7,
     "metadata": {},
     "output_type": "execute_result"
    }
   ],
   "source": [
    "rint = (np.bincount(Z).argmax())\n",
    "rint"
   ]
  },
  {
   "cell_type": "code",
   "execution_count": 8,
   "metadata": {},
   "outputs": [
    {
     "data": {
      "text/plain": [
       "array([ 7,  8, 10, 22, 32, 34, 42])"
      ]
     },
     "execution_count": 8,
     "metadata": {},
     "output_type": "execute_result"
    }
   ],
   "source": [
    "np.where(Z == rint)[0]"
   ]
  },
  {
   "cell_type": "markdown",
   "metadata": {},
   "source": [
    "### 3. 如何利用 list(...) 實現 a.tolist() 的效果？試著用程式實作。\n"
   ]
  },
  {
   "cell_type": "code",
   "execution_count": 9,
   "metadata": {},
   "outputs": [
    {
     "name": "stdout",
     "output_type": "stream",
     "text": [
      "[2, 1, 1, 1, 4, 1]\n",
      "[2, 1, 1, 1, 4, 1]\n",
      "[[0, 6, 5, 5], [0, 1, 9, 6], [3, 0, 6, 9]]\n",
      "[array([0, 6, 5, 5]), array([0, 1, 9, 6]), array([3, 0, 6, 9])]\n",
      "[[[2, 2], [4, 1], [4, 0]], [[5, 6], [1, 9], [4, 8]]]\n",
      "[array([[2, 2],\n",
      "       [4, 1],\n",
      "       [4, 0]]), array([[5, 6],\n",
      "       [1, 9],\n",
      "       [4, 8]])]\n"
     ]
    }
   ],
   "source": [
    "a = np.random.randint(10, size=6) \n",
    "\n",
    "print(a.tolist())\n",
    "print(list(a))\n",
    "\n",
    "\n",
    "b = np.random.randint(10, size=(3,4)) \n",
    "\n",
    "print(b.tolist())\n",
    "print(list(b))\n",
    "\n",
    "\n",
    "c = np.random.randint(10, size=(2,3,2)) \n",
    "\n",
    "print(c.tolist())\n",
    "print(list(c))\n"
   ]
  },
  {
   "cell_type": "code",
   "execution_count": 10,
   "metadata": {},
   "outputs": [
    {
     "name": "stdout",
     "output_type": "stream",
     "text": [
      "[2, 1, 1, 1, 4, 1]\n",
      "[[0, 6, 5, 5], [0, 1, 9, 6], [3, 0, 6, 9]]\n",
      "[[[2, 2], [4, 1], [4, 0]], [[5, 6], [1, 9], [4, 8]]]\n"
     ]
    }
   ],
   "source": [
    "def tolist(iterable):\n",
    "    if type(iterable) != np.ndarray:\n",
    "        return iterable\n",
    "    return [tolist(obj) for obj in iterable]\n",
    "\n",
    "print(tolist(a))\n",
    "print(tolist(b))\n",
    "print(tolist(c))"
   ]
  },
  {
   "cell_type": "code",
   "execution_count": null,
   "metadata": {},
   "outputs": [],
   "source": []
  }
 ],
 "metadata": {
  "colab": {
   "name": "Day_023_HW.ipynb",
   "provenance": []
  },
  "kernelspec": {
   "display_name": "Python 3",
   "language": "python",
   "name": "python3"
  },
  "language_info": {
   "codemirror_mode": {
    "name": "ipython",
    "version": 3
   },
   "file_extension": ".py",
   "mimetype": "text/x-python",
   "name": "python",
   "nbconvert_exporter": "python",
   "pygments_lexer": "ipython3",
   "version": "3.7.4"
  }
 },
 "nbformat": 4,
 "nbformat_minor": 1
}
