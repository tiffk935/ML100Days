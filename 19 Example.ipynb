{
 "cells": [
  {
   "cell_type": "markdown",
   "metadata": {
    "id": "7WpTwrIPwPA5"
   },
   "source": [
    "# 教學目標 \n",
    "\n",
    "主要說明matplotlib 的基礎操作\n",
    "\n",
    "1. 使用常見的子圖與軸圖來做畫面配置\n",
    "\n",
    "2. 等高線圖\n",
    "\n",
    "# 範例重點\n",
    "\n",
    "如何使用亂數, 資料集來操作\n"
   ]
  },
  {
   "cell_type": "code",
   "execution_count": 1,
   "metadata": {
    "id": "u_C6XjFlwPA5",
    "outputId": "6b27d09c-47b8-49e9-c412-6ce91b0b2b9a"
   },
   "outputs": [
    {
     "data": {
      "text/plain": [
       "<Figure size 640x480 with 1 Axes>"
      ]
     },
     "metadata": {},
     "output_type": "display_data"
    }
   ],
   "source": [
    "# 載入需要的...\n",
    "import matplotlib.pyplot as plt\n",
    "import numpy as np\n",
    "\n",
    "# 準備數據 ... 假設我要畫一個sin波 從0~180度\n",
    "x = np.arange(0,180)\n",
    "y = np.sin(x * np.pi / 180.0)\n",
    "\n",
    "# 開始畫圖\n",
    "# 設定要畫的的x,y數據list....\n",
    "\n",
    "plt.plot(x,y)\n",
    "# 在這個指令之前，都還在做畫圖的動作  \n",
    "# 這個指令算是 \"秀圖\"\n",
    "\n",
    "plt.show() \n"
   ]
  },
  {
   "cell_type": "code",
   "execution_count": 2,
   "metadata": {
    "colab": {
     "base_uri": "https://localhost:8080/",
     "height": 295
    },
    "executionInfo": {
     "elapsed": 847,
     "status": "ok",
     "timestamp": 1615283623891,
     "user": {
      "displayName": "陳宇春",
      "photoUrl": "",
      "userId": "17550852567328422073"
     },
     "user_tz": -480
    },
    "id": "HkerUPvOwPA-",
    "outputId": "bfc32d25-9beb-4dd8-e627-575bb9179af5"
   },
   "outputs": [
    {
     "data": {
      "image/png": "[encoded data removed]",
      "text/plain": [
       "<Figure size 432x288 with 1 Axes>"
      ]
     },
     "metadata": {
      "needs_background": "light"
     },
     "output_type": "display_data"
    }
   ],
   "source": [
    "# 載入需要的...\n",
    "import matplotlib.pyplot as plt\n",
    "import numpy as np\n",
    "# 準備數據 ... 假設我要畫一個sin波 從0~180度\n",
    "x = np.arange(0,180)\n",
    "y = np.sin(x * np.pi / 180.0)\n",
    "\n",
    "# 開始畫圖\n",
    "# 設定要畫的的x,y數據list....\n",
    "\n",
    "plt.plot(x,y)\n",
    "# 設定圖的範圍, 不設的話，系統會自行決定\n",
    "plt.xlim(-30,390)\n",
    "plt.ylim(-1.5,1.5)\n",
    "\n",
    "# 照需要寫入x 軸和y軸的 label 以及title\n",
    "\n",
    "plt.xlabel(\"x-axis\")\n",
    "plt.ylabel(\"y-axis\")\n",
    "plt.title(\"The Title\") \n",
    "\n",
    "# 在這個指令之前，都還在做畫圖的動作\n",
    "# 這個指令算是 \"秀圖\"\n",
    "plt.show()\n"
   ]
  },
  {
   "cell_type": "markdown",
   "metadata": {
    "id": "3Xi7N-1vwPBA"
   },
   "source": [
    "# 散點圖: Scatter Plots\n",
    "    \n",
    "顏色由（X，Y）的角度給出。\n",
    "\n",
    "注意標記的大小，顏色和透明度。"
   ]
  },
  {
   "cell_type": "code",
   "execution_count": 3,
   "metadata": {
    "colab": {
     "base_uri": "https://localhost:8080/",
     "height": 281
    },
    "executionInfo": {
     "elapsed": 809,
     "status": "ok",
     "timestamp": 1615284249623,
     "user": {
      "displayName": "陳宇春",
      "photoUrl": "",
      "userId": "17550852567328422073"
     },
     "user_tz": -480
    },
    "id": "8FpoOD91wPBB",
    "outputId": "86e5b2dd-b9dd-460e-a8ab-739939609a86"
   },
   "outputs": [
    {
     "data": {
      "image/png": "[encoded data removed]",
      "text/plain": [
       "<Figure size 432x288 with 1 Axes>"
      ]
     },
     "metadata": {
      "needs_background": "light"
     },
     "output_type": "display_data"
    }
   ],
   "source": [
    "\n",
    "import numpy as np\n",
    "import matplotlib.pyplot as plt\n",
    "\n",
    "X = np.random.normal(0, 1, 100)\n",
    "Y = np.random.normal(0, 1, 100)\n",
    "plt.scatter(X, Y)\n",
    "plt.title(\"Scatter plot\")\n",
    "\n",
    "'''\n",
    "n = 1024\n",
    "X = np.random.normal(0,1,n)\n",
    "Y = np.random.normal(0,1,n)\n",
    "'''\n",
    "\n",
    "plt.scatter(X,Y)\n",
    "plt.show()"
   ]
  },
  {
   "cell_type": "markdown",
   "metadata": {
    "id": "mYR7SBHAwPBD"
   },
   "source": [
    "# 給定顏色與圖形形狀\n",
    "\n",
    "產出數值介於0~10的array，並以0.4為間隔，\n",
    "\n",
    "畫出y=x, y=x², y=x³ 的圖表，\n",
    "\n",
    "r 代表紅色、兩個-代表虛線，\n",
    "\n",
    "b代表藍色、s代表方塊，\n",
    "\n",
    "g代表綠色，^代表三角形\n",
    "\n",
    "![image.png](attachment:image.png)"
   ]
  },
  {
   "cell_type": "code",
   "execution_count": 4,
   "metadata": {
    "id": "eyMCGKFHwPBE",
    "outputId": "cc94b06a-1adb-4c7f-b85c-9e7eb7978bfe"
   },
   "outputs": [
    {
     "name": "stdout",
     "output_type": "stream",
     "text": [
      "t: [0.  0.7 1.4 2.1 2.8 3.5 4.2 4.9 5.6 6.3 7.  7.7 8.4 9.1 9.8]\n"
     ]
    },
    {
     "data": {
      "text/plain": [
       "[<matplotlib.lines.Line2D at 0x111284c90>,\n",
       " <matplotlib.lines.Line2D at 0x114a24490>,\n",
       " <matplotlib.lines.Line2D at 0x114a24690>]"
      ]
     },
     "execution_count": 4,
     "metadata": {},
     "output_type": "execute_result"
    },
    {
     "data": {
      "image/png": "[encoded data removed]",
      "text/plain": [
       "<Figure size 432x288 with 1 Axes>"
      ]
     },
     "metadata": {
      "needs_background": "light"
     },
     "output_type": "display_data"
    }
   ],
   "source": [
    "t = np.arange(0., 10., 0.7)\n",
    "print(\"t: \"+str(t))\n",
    "\n",
    "plt.plot(t, t, 'r--', t, t**2, 'bs', t**3, 'g^' )"
   ]
  },
  {
   "cell_type": "code",
   "execution_count": 5,
   "metadata": {
    "id": "WiYAsSyHwPBG",
    "outputId": "de19ed0c-74b7-4a39-ec4c-43621bbdcbfb"
   },
   "outputs": [
    {
     "data": {
      "text/plain": [
       "<BarContainer object of 15 artists>"
      ]
     },
     "execution_count": 5,
     "metadata": {},
     "output_type": "execute_result"
    },
    {
     "data": {
      "image/png": "[encoded data removed]",
      "text/plain": [
       "<Figure size 432x288 with 1 Axes>"
      ]
     },
     "metadata": {
      "needs_background": "light"
     },
     "output_type": "display_data"
    }
   ],
   "source": [
    "x = np.arange(0., 10., 0.7)\n",
    "y = np.arange(0., 10., 0.7)\n",
    "\n",
    "plt.bar(x, y)"
   ]
  },
  {
   "cell_type": "code",
   "execution_count": null,
   "metadata": {
    "id": "B50vqZjMwPBI"
   },
   "outputs": [],
   "source": []
  }
 ],
 "metadata": {
  "colab": {
   "name": "Data Visualization_Day-1_example.ipynb",
   "provenance": []
  },
  "kernelspec": {
   "display_name": "Python 3",
   "language": "python",
   "name": "python3"
  },
  "language_info": {
   "codemirror_mode": {
    "name": "ipython",
    "version": 3
   },
   "file_extension": ".py",
   "mimetype": "text/x-python",
   "name": "python",
   "nbconvert_exporter": "python",
   "pygments_lexer": "ipython3",
   "version": "3.7.4"
  }
 },
 "nbformat": 4,
 "nbformat_minor": 1
}
